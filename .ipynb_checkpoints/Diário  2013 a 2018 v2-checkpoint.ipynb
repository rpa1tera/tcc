{
 "cells": [
  {
   "cell_type": "code",
   "execution_count": 1,
   "metadata": {
    "collapsed": true
   },
   "outputs": [],
   "source": [
    "import numpy as np\n",
    "import pandas as pd\n",
    "import matplotlib.pyplot as plt\n",
    "import seaborn as sns \n",
    "%matplotlib inline\n",
    "import warnings\n",
    "warnings.filterwarnings(\"ignore\")"
   ]
  },
  {
   "cell_type": "code",
   "execution_count": 2,
   "metadata": {
    "collapsed": true
   },
   "outputs": [],
   "source": [
    "#df = pd.read_csv(\"SEMANAL-2013-2018.csv\", encoding = \"ISO-8859-1\", index_col=0)\n",
    "df = pd.read_csv(\"DIARIO-2013A2018.csv\", encoding = \"ISO-8859-1\", index_col=0)"
   ]
  },
  {
   "cell_type": "code",
   "execution_count": 3,
   "metadata": {},
   "outputs": [
    {
     "data": {
      "text/html": [
       "<div>\n",
       "<style>\n",
       "    .dataframe thead tr:only-child th {\n",
       "        text-align: right;\n",
       "    }\n",
       "\n",
       "    .dataframe thead th {\n",
       "        text-align: left;\n",
       "    }\n",
       "\n",
       "    .dataframe tbody tr th {\n",
       "        vertical-align: top;\n",
       "    }\n",
       "</style>\n",
       "<table border=\"1\" class=\"dataframe\">\n",
       "  <thead>\n",
       "    <tr style=\"text-align: right;\">\n",
       "      <th></th>\n",
       "      <th>SEMANA_DO_ANO</th>\n",
       "      <th>PRODUTO</th>\n",
       "      <th>FAMILIA_PRODUTO</th>\n",
       "      <th>QUANT_VENDIDA</th>\n",
       "      <th>CLIENTES</th>\n",
       "      <th>DIASEMANA</th>\n",
       "      <th>FERIADO_PROXIMO</th>\n",
       "    </tr>\n",
       "    <tr>\n",
       "      <th>DATA_VENDA</th>\n",
       "      <th></th>\n",
       "      <th></th>\n",
       "      <th></th>\n",
       "      <th></th>\n",
       "      <th></th>\n",
       "      <th></th>\n",
       "      <th></th>\n",
       "    </tr>\n",
       "  </thead>\n",
       "  <tbody>\n",
       "    <tr>\n",
       "      <th>02/01/13</th>\n",
       "      <td>1</td>\n",
       "      <td>627</td>\n",
       "      <td>101</td>\n",
       "      <td>1578</td>\n",
       "      <td>6</td>\n",
       "      <td>QUARTA-FEIRA</td>\n",
       "      <td>1</td>\n",
       "    </tr>\n",
       "    <tr>\n",
       "      <th>02/01/13</th>\n",
       "      <td>1</td>\n",
       "      <td>399</td>\n",
       "      <td>105</td>\n",
       "      <td>1288</td>\n",
       "      <td>7</td>\n",
       "      <td>QUARTA-FEIRA</td>\n",
       "      <td>1</td>\n",
       "    </tr>\n",
       "    <tr>\n",
       "      <th>02/01/13</th>\n",
       "      <td>1</td>\n",
       "      <td>474</td>\n",
       "      <td>105</td>\n",
       "      <td>592</td>\n",
       "      <td>7</td>\n",
       "      <td>QUARTA-FEIRA</td>\n",
       "      <td>1</td>\n",
       "    </tr>\n",
       "    <tr>\n",
       "      <th>02/01/13</th>\n",
       "      <td>1</td>\n",
       "      <td>412</td>\n",
       "      <td>103</td>\n",
       "      <td>563</td>\n",
       "      <td>7</td>\n",
       "      <td>QUARTA-FEIRA</td>\n",
       "      <td>1</td>\n",
       "    </tr>\n",
       "    <tr>\n",
       "      <th>02/01/13</th>\n",
       "      <td>1</td>\n",
       "      <td>7503</td>\n",
       "      <td>107</td>\n",
       "      <td>480</td>\n",
       "      <td>2</td>\n",
       "      <td>QUARTA-FEIRA</td>\n",
       "      <td>1</td>\n",
       "    </tr>\n",
       "  </tbody>\n",
       "</table>\n",
       "</div>"
      ],
      "text/plain": [
       "            SEMANA_DO_ANO  PRODUTO  FAMILIA_PRODUTO  QUANT_VENDIDA  CLIENTES  \\\n",
       "DATA_VENDA                                                                     \n",
       "02/01/13                1      627              101           1578         6   \n",
       "02/01/13                1      399              105           1288         7   \n",
       "02/01/13                1      474              105            592         7   \n",
       "02/01/13                1      412              103            563         7   \n",
       "02/01/13                1     7503              107            480         2   \n",
       "\n",
       "                DIASEMANA  FERIADO_PROXIMO  \n",
       "DATA_VENDA                                  \n",
       "02/01/13    QUARTA-FEIRA                 1  \n",
       "02/01/13    QUARTA-FEIRA                 1  \n",
       "02/01/13    QUARTA-FEIRA                 1  \n",
       "02/01/13    QUARTA-FEIRA                 1  \n",
       "02/01/13    QUARTA-FEIRA                 1  "
      ]
     },
     "execution_count": 3,
     "metadata": {},
     "output_type": "execute_result"
    }
   ],
   "source": [
    "df.head()"
   ]
  },
  {
   "cell_type": "code",
   "execution_count": 4,
   "metadata": {},
   "outputs": [
    {
     "data": {
      "text/plain": [
       "(214284, 7)"
      ]
     },
     "execution_count": 4,
     "metadata": {},
     "output_type": "execute_result"
    }
   ],
   "source": [
    "df.shape"
   ]
  },
  {
   "cell_type": "code",
   "execution_count": 5,
   "metadata": {},
   "outputs": [
    {
     "data": {
      "text/plain": [
       "SEMANA_DO_ANO      0\n",
       "PRODUTO            0\n",
       "FAMILIA_PRODUTO    0\n",
       "QUANT_VENDIDA      0\n",
       "CLIENTES           0\n",
       "DIASEMANA          0\n",
       "FERIADO_PROXIMO    0\n",
       "dtype: int64"
      ]
     },
     "execution_count": 5,
     "metadata": {},
     "output_type": "execute_result"
    }
   ],
   "source": [
    "df.isnull().sum() #O quanto temos de dados nulos?"
   ]
  },
  {
   "cell_type": "code",
   "execution_count": 6,
   "metadata": {},
   "outputs": [
    {
     "data": {
      "text/plain": [
       "array([ 1,  2,  9, -2, -1,  0], dtype=int64)"
      ]
     },
     "execution_count": 6,
     "metadata": {},
     "output_type": "execute_result"
    }
   ],
   "source": [
    "df.FERIADO_PROXIMO.unique() "
   ]
  },
  {
   "cell_type": "code",
   "execution_count": 7,
   "metadata": {
    "collapsed": true
   },
   "outputs": [],
   "source": [
    "#df = df[(df.FERIADO_PROXIMO == 0)]"
   ]
  },
  {
   "cell_type": "code",
   "execution_count": 8,
   "metadata": {
    "collapsed": true
   },
   "outputs": [],
   "source": [
    "df['FERIADO_PROXIMO'] = df['FERIADO_PROXIMO'].astype(int)"
   ]
  },
  {
   "cell_type": "code",
   "execution_count": 9,
   "metadata": {
    "collapsed": true
   },
   "outputs": [],
   "source": [
    "#df.loc[ df.DIASEMANA=='DOMINGO ', 'DIASEMANA' ] = 1 \n",
    "#df.loc[ df.DIASEMANA=='SEGUNDA-FEIRA', 'DIASEMANA' ] = 2 \n",
    "#df.loc[ df.DIASEMANA=='TERÇA-FEIRA  ', 'DIASEMANA' ] = 3 \n",
    "#df.loc[ df.DIASEMANA=='QUARTA-FEIRA ', 'DIASEMANA' ] = 4 \n",
    "#df.loc[ df.DIASEMANA=='QUINTA-FEIRA ', 'DIASEMANA' ] = 5 \n",
    "#df.loc[ df.DIASEMANA=='SEXTA-FEIRA  ', 'DIASEMANA' ] = 6\n",
    "#df.loc[ df.DIASEMANA=='SÁBADO       ', 'DIASEMANA' ] = 7 "
   ]
  },
  {
   "cell_type": "code",
   "execution_count": null,
   "metadata": {
    "collapsed": true
   },
   "outputs": [],
   "source": []
  },
  {
   "cell_type": "code",
   "execution_count": 61,
   "metadata": {
    "collapsed": true
   },
   "outputs": [],
   "source": [
    "df['DIASEMANA'] = df['DIASEMANA'].astype(int)"
   ]
  },
  {
   "cell_type": "code",
   "execution_count": 62,
   "metadata": {},
   "outputs": [
    {
     "data": {
      "text/plain": [
       "array([4, 5, 6, 2, 3, 7], dtype=int64)"
      ]
     },
     "execution_count": 62,
     "metadata": {},
     "output_type": "execute_result"
    }
   ],
   "source": [
    "df.DIASEMANA.unique()"
   ]
  },
  {
   "cell_type": "code",
   "execution_count": 64,
   "metadata": {
    "collapsed": true
   },
   "outputs": [],
   "source": [
    "df.index = pd.to_datetime(df.index, dayfirst=True)"
   ]
  },
  {
   "cell_type": "code",
   "execution_count": 65,
   "metadata": {
    "collapsed": true
   },
   "outputs": [],
   "source": [
    "df['ANO'] = df.index.year\n",
    "df['MES'] = df.index.month\n",
    "df['DIA'] = df.index.day"
   ]
  },
  {
   "cell_type": "code",
   "execution_count": 66,
   "metadata": {},
   "outputs": [
    {
     "data": {
      "text/html": [
       "<div>\n",
       "<style>\n",
       "    .dataframe thead tr:only-child th {\n",
       "        text-align: right;\n",
       "    }\n",
       "\n",
       "    .dataframe thead th {\n",
       "        text-align: left;\n",
       "    }\n",
       "\n",
       "    .dataframe tbody tr th {\n",
       "        vertical-align: top;\n",
       "    }\n",
       "</style>\n",
       "<table border=\"1\" class=\"dataframe\">\n",
       "  <thead>\n",
       "    <tr style=\"text-align: right;\">\n",
       "      <th></th>\n",
       "      <th>SEMANA_DO_ANO</th>\n",
       "      <th>PRODUTO</th>\n",
       "      <th>FAMILIA_PRODUTO</th>\n",
       "      <th>QUANT_VENDIDA</th>\n",
       "      <th>CLIENTES</th>\n",
       "      <th>DIASEMANA</th>\n",
       "      <th>FERIADO_PROXIMO</th>\n",
       "      <th>ANO</th>\n",
       "      <th>MES</th>\n",
       "      <th>DIA</th>\n",
       "    </tr>\n",
       "    <tr>\n",
       "      <th>DATA_VENDA</th>\n",
       "      <th></th>\n",
       "      <th></th>\n",
       "      <th></th>\n",
       "      <th></th>\n",
       "      <th></th>\n",
       "      <th></th>\n",
       "      <th></th>\n",
       "      <th></th>\n",
       "      <th></th>\n",
       "      <th></th>\n",
       "    </tr>\n",
       "  </thead>\n",
       "  <tbody>\n",
       "    <tr>\n",
       "      <th>2013-01-02</th>\n",
       "      <td>1</td>\n",
       "      <td>627</td>\n",
       "      <td>101</td>\n",
       "      <td>1578</td>\n",
       "      <td>6</td>\n",
       "      <td>4</td>\n",
       "      <td>1</td>\n",
       "      <td>2013</td>\n",
       "      <td>1</td>\n",
       "      <td>2</td>\n",
       "    </tr>\n",
       "    <tr>\n",
       "      <th>2013-01-02</th>\n",
       "      <td>1</td>\n",
       "      <td>399</td>\n",
       "      <td>105</td>\n",
       "      <td>1288</td>\n",
       "      <td>7</td>\n",
       "      <td>4</td>\n",
       "      <td>1</td>\n",
       "      <td>2013</td>\n",
       "      <td>1</td>\n",
       "      <td>2</td>\n",
       "    </tr>\n",
       "    <tr>\n",
       "      <th>2013-01-02</th>\n",
       "      <td>1</td>\n",
       "      <td>474</td>\n",
       "      <td>105</td>\n",
       "      <td>592</td>\n",
       "      <td>7</td>\n",
       "      <td>4</td>\n",
       "      <td>1</td>\n",
       "      <td>2013</td>\n",
       "      <td>1</td>\n",
       "      <td>2</td>\n",
       "    </tr>\n",
       "    <tr>\n",
       "      <th>2013-01-02</th>\n",
       "      <td>1</td>\n",
       "      <td>412</td>\n",
       "      <td>103</td>\n",
       "      <td>563</td>\n",
       "      <td>7</td>\n",
       "      <td>4</td>\n",
       "      <td>1</td>\n",
       "      <td>2013</td>\n",
       "      <td>1</td>\n",
       "      <td>2</td>\n",
       "    </tr>\n",
       "    <tr>\n",
       "      <th>2013-01-02</th>\n",
       "      <td>1</td>\n",
       "      <td>7503</td>\n",
       "      <td>107</td>\n",
       "      <td>480</td>\n",
       "      <td>2</td>\n",
       "      <td>4</td>\n",
       "      <td>1</td>\n",
       "      <td>2013</td>\n",
       "      <td>1</td>\n",
       "      <td>2</td>\n",
       "    </tr>\n",
       "  </tbody>\n",
       "</table>\n",
       "</div>"
      ],
      "text/plain": [
       "            SEMANA_DO_ANO  PRODUTO  FAMILIA_PRODUTO  QUANT_VENDIDA  CLIENTES  \\\n",
       "DATA_VENDA                                                                     \n",
       "2013-01-02              1      627              101           1578         6   \n",
       "2013-01-02              1      399              105           1288         7   \n",
       "2013-01-02              1      474              105            592         7   \n",
       "2013-01-02              1      412              103            563         7   \n",
       "2013-01-02              1     7503              107            480         2   \n",
       "\n",
       "            DIASEMANA  FERIADO_PROXIMO   ANO  MES  DIA  \n",
       "DATA_VENDA                                              \n",
       "2013-01-02          4                1  2013    1    2  \n",
       "2013-01-02          4                1  2013    1    2  \n",
       "2013-01-02          4                1  2013    1    2  \n",
       "2013-01-02          4                1  2013    1    2  \n",
       "2013-01-02          4                1  2013    1    2  "
      ]
     },
     "execution_count": 66,
     "metadata": {},
     "output_type": "execute_result"
    }
   ],
   "source": [
    "df.head()"
   ]
  },
  {
   "cell_type": "code",
   "execution_count": 67,
   "metadata": {},
   "outputs": [
    {
     "data": {
      "text/html": [
       "<div>\n",
       "<style>\n",
       "    .dataframe thead tr:only-child th {\n",
       "        text-align: right;\n",
       "    }\n",
       "\n",
       "    .dataframe thead th {\n",
       "        text-align: left;\n",
       "    }\n",
       "\n",
       "    .dataframe tbody tr th {\n",
       "        vertical-align: top;\n",
       "    }\n",
       "</style>\n",
       "<table border=\"1\" class=\"dataframe\">\n",
       "  <thead>\n",
       "    <tr style=\"text-align: right;\">\n",
       "      <th></th>\n",
       "      <th>SEMANA_DO_ANO</th>\n",
       "      <th>PRODUTO</th>\n",
       "      <th>FAMILIA_PRODUTO</th>\n",
       "      <th>QUANT_VENDIDA</th>\n",
       "      <th>CLIENTES</th>\n",
       "      <th>DIASEMANA</th>\n",
       "      <th>FERIADO_PROXIMO</th>\n",
       "      <th>ANO</th>\n",
       "      <th>MES</th>\n",
       "      <th>DIA</th>\n",
       "    </tr>\n",
       "  </thead>\n",
       "  <tbody>\n",
       "    <tr>\n",
       "      <th>SEMANA_DO_ANO</th>\n",
       "      <td>1.000000</td>\n",
       "      <td>0.001242</td>\n",
       "      <td>-0.001327</td>\n",
       "      <td>-0.002709</td>\n",
       "      <td>-0.010264</td>\n",
       "      <td>-0.008606</td>\n",
       "      <td>-0.065871</td>\n",
       "      <td>-0.139921</td>\n",
       "      <td>0.986030</td>\n",
       "      <td>0.036922</td>\n",
       "    </tr>\n",
       "    <tr>\n",
       "      <th>PRODUTO</th>\n",
       "      <td>0.001242</td>\n",
       "      <td>1.000000</td>\n",
       "      <td>0.472659</td>\n",
       "      <td>-0.402849</td>\n",
       "      <td>-0.362285</td>\n",
       "      <td>0.029919</td>\n",
       "      <td>0.001760</td>\n",
       "      <td>0.001366</td>\n",
       "      <td>0.001080</td>\n",
       "      <td>0.000449</td>\n",
       "    </tr>\n",
       "    <tr>\n",
       "      <th>FAMILIA_PRODUTO</th>\n",
       "      <td>-0.001327</td>\n",
       "      <td>0.472659</td>\n",
       "      <td>1.000000</td>\n",
       "      <td>-0.467729</td>\n",
       "      <td>-0.431219</td>\n",
       "      <td>0.034893</td>\n",
       "      <td>0.004261</td>\n",
       "      <td>-0.015767</td>\n",
       "      <td>-0.001525</td>\n",
       "      <td>-0.000743</td>\n",
       "    </tr>\n",
       "    <tr>\n",
       "      <th>QUANT_VENDIDA</th>\n",
       "      <td>-0.002709</td>\n",
       "      <td>-0.402849</td>\n",
       "      <td>-0.467729</td>\n",
       "      <td>1.000000</td>\n",
       "      <td>0.836403</td>\n",
       "      <td>0.035806</td>\n",
       "      <td>-0.000960</td>\n",
       "      <td>-0.026173</td>\n",
       "      <td>-0.001958</td>\n",
       "      <td>0.005410</td>\n",
       "    </tr>\n",
       "    <tr>\n",
       "      <th>CLIENTES</th>\n",
       "      <td>-0.010264</td>\n",
       "      <td>-0.362285</td>\n",
       "      <td>-0.431219</td>\n",
       "      <td>0.836403</td>\n",
       "      <td>1.000000</td>\n",
       "      <td>0.117813</td>\n",
       "      <td>0.003299</td>\n",
       "      <td>-0.030288</td>\n",
       "      <td>-0.010217</td>\n",
       "      <td>-0.009310</td>\n",
       "    </tr>\n",
       "    <tr>\n",
       "      <th>DIASEMANA</th>\n",
       "      <td>-0.008606</td>\n",
       "      <td>0.029919</td>\n",
       "      <td>0.034893</td>\n",
       "      <td>0.035806</td>\n",
       "      <td>0.117813</td>\n",
       "      <td>1.000000</td>\n",
       "      <td>-0.029624</td>\n",
       "      <td>0.025298</td>\n",
       "      <td>-0.007027</td>\n",
       "      <td>0.004954</td>\n",
       "    </tr>\n",
       "    <tr>\n",
       "      <th>FERIADO_PROXIMO</th>\n",
       "      <td>-0.065871</td>\n",
       "      <td>0.001760</td>\n",
       "      <td>0.004261</td>\n",
       "      <td>-0.000960</td>\n",
       "      <td>0.003299</td>\n",
       "      <td>-0.029624</td>\n",
       "      <td>1.000000</td>\n",
       "      <td>-0.016844</td>\n",
       "      <td>-0.072459</td>\n",
       "      <td>0.060777</td>\n",
       "    </tr>\n",
       "    <tr>\n",
       "      <th>ANO</th>\n",
       "      <td>-0.139921</td>\n",
       "      <td>0.001366</td>\n",
       "      <td>-0.015767</td>\n",
       "      <td>-0.026173</td>\n",
       "      <td>-0.030288</td>\n",
       "      <td>0.025298</td>\n",
       "      <td>-0.016844</td>\n",
       "      <td>1.000000</td>\n",
       "      <td>-0.134184</td>\n",
       "      <td>-0.008493</td>\n",
       "    </tr>\n",
       "    <tr>\n",
       "      <th>MES</th>\n",
       "      <td>0.986030</td>\n",
       "      <td>0.001080</td>\n",
       "      <td>-0.001525</td>\n",
       "      <td>-0.001958</td>\n",
       "      <td>-0.010217</td>\n",
       "      <td>-0.007027</td>\n",
       "      <td>-0.072459</td>\n",
       "      <td>-0.134184</td>\n",
       "      <td>1.000000</td>\n",
       "      <td>-0.036261</td>\n",
       "    </tr>\n",
       "    <tr>\n",
       "      <th>DIA</th>\n",
       "      <td>0.036922</td>\n",
       "      <td>0.000449</td>\n",
       "      <td>-0.000743</td>\n",
       "      <td>0.005410</td>\n",
       "      <td>-0.009310</td>\n",
       "      <td>0.004954</td>\n",
       "      <td>0.060777</td>\n",
       "      <td>-0.008493</td>\n",
       "      <td>-0.036261</td>\n",
       "      <td>1.000000</td>\n",
       "    </tr>\n",
       "  </tbody>\n",
       "</table>\n",
       "</div>"
      ],
      "text/plain": [
       "                 SEMANA_DO_ANO   PRODUTO  FAMILIA_PRODUTO  QUANT_VENDIDA  \\\n",
       "SEMANA_DO_ANO         1.000000  0.001242        -0.001327      -0.002709   \n",
       "PRODUTO               0.001242  1.000000         0.472659      -0.402849   \n",
       "FAMILIA_PRODUTO      -0.001327  0.472659         1.000000      -0.467729   \n",
       "QUANT_VENDIDA        -0.002709 -0.402849        -0.467729       1.000000   \n",
       "CLIENTES             -0.010264 -0.362285        -0.431219       0.836403   \n",
       "DIASEMANA            -0.008606  0.029919         0.034893       0.035806   \n",
       "FERIADO_PROXIMO      -0.065871  0.001760         0.004261      -0.000960   \n",
       "ANO                  -0.139921  0.001366        -0.015767      -0.026173   \n",
       "MES                   0.986030  0.001080        -0.001525      -0.001958   \n",
       "DIA                   0.036922  0.000449        -0.000743       0.005410   \n",
       "\n",
       "                 CLIENTES  DIASEMANA  FERIADO_PROXIMO       ANO       MES  \\\n",
       "SEMANA_DO_ANO   -0.010264  -0.008606        -0.065871 -0.139921  0.986030   \n",
       "PRODUTO         -0.362285   0.029919         0.001760  0.001366  0.001080   \n",
       "FAMILIA_PRODUTO -0.431219   0.034893         0.004261 -0.015767 -0.001525   \n",
       "QUANT_VENDIDA    0.836403   0.035806        -0.000960 -0.026173 -0.001958   \n",
       "CLIENTES         1.000000   0.117813         0.003299 -0.030288 -0.010217   \n",
       "DIASEMANA        0.117813   1.000000        -0.029624  0.025298 -0.007027   \n",
       "FERIADO_PROXIMO  0.003299  -0.029624         1.000000 -0.016844 -0.072459   \n",
       "ANO             -0.030288   0.025298        -0.016844  1.000000 -0.134184   \n",
       "MES             -0.010217  -0.007027        -0.072459 -0.134184  1.000000   \n",
       "DIA             -0.009310   0.004954         0.060777 -0.008493 -0.036261   \n",
       "\n",
       "                      DIA  \n",
       "SEMANA_DO_ANO    0.036922  \n",
       "PRODUTO          0.000449  \n",
       "FAMILIA_PRODUTO -0.000743  \n",
       "QUANT_VENDIDA    0.005410  \n",
       "CLIENTES        -0.009310  \n",
       "DIASEMANA        0.004954  \n",
       "FERIADO_PROXIMO  0.060777  \n",
       "ANO             -0.008493  \n",
       "MES             -0.036261  \n",
       "DIA              1.000000  "
      ]
     },
     "execution_count": 67,
     "metadata": {},
     "output_type": "execute_result"
    }
   ],
   "source": [
    "df.corr(method='spearman')"
   ]
  },
  {
   "cell_type": "code",
   "execution_count": 68,
   "metadata": {},
   "outputs": [
    {
     "data": {
      "text/plain": [
       "<matplotlib.axes._subplots.AxesSubplot at 0x1fea95215f8>"
      ]
     },
     "execution_count": 68,
     "metadata": {},
     "output_type": "execute_result"
    },
    {
     "data": {
      "image/png": "[encoded data removed]",
      "text/plain": [
       "<matplotlib.figure.Figure at 0x1fea95e0518>"
      ]
     },
     "metadata": {},
     "output_type": "display_data"
    }
   ],
   "source": [
    "fig, (axis1) = plt.subplots(1,1,figsize=(15,4))\n",
    "\n",
    "sns.barplot(x='DIASEMANA', y='QUANT_VENDIDA', data=df, ax=axis1)"
   ]
  },
  {
   "cell_type": "code",
   "execution_count": 69,
   "metadata": {},
   "outputs": [
    {
     "data": {
      "text/plain": [
       "<matplotlib.axes._subplots.AxesSubplot at 0x1fea95e0278>"
      ]
     },
     "execution_count": 69,
     "metadata": {},
     "output_type": "execute_result"
    },
    {
     "data": {
      "image/png": "[encoded data removed]",
      "text/plain": [
       "<matplotlib.figure.Figure at 0x1fea969b550>"
      ]
     },
     "metadata": {},
     "output_type": "display_data"
    }
   ],
   "source": [
    "fig, (axis1) = plt.subplots(1,1,figsize=(15,4))\n",
    "\n",
    "sns.barplot(x='ANO', y='QUANT_VENDIDA', data=df, ax=axis1)"
   ]
  },
  {
   "cell_type": "code",
   "execution_count": 70,
   "metadata": {},
   "outputs": [
    {
     "data": {
      "text/plain": [
       "<matplotlib.axes._subplots.AxesSubplot at 0x1fea966fe80>"
      ]
     },
     "execution_count": 70,
     "metadata": {},
     "output_type": "execute_result"
    },
    {
     "data": {
      "image/png": "[encoded data removed]",
      "text/plain": [
       "<matplotlib.figure.Figure at 0x1fea9fe9908>"
      ]
     },
     "metadata": {},
     "output_type": "display_data"
    }
   ],
   "source": [
    "fig, (axis1) = plt.subplots(1,1,figsize=(15,4))\n",
    "\n",
    "sns.barplot(x='MES', y='QUANT_VENDIDA', data=df, ax=axis1)"
   ]
  },
  {
   "cell_type": "code",
   "execution_count": 87,
   "metadata": {
    "collapsed": true
   },
   "outputs": [],
   "source": [
    "y = df.QUANT_VENDIDA.values\n",
    "X = df.drop(['QUANT_VENDIDA'], axis = 1)"
   ]
  },
  {
   "cell_type": "code",
   "execution_count": 89,
   "metadata": {},
   "outputs": [
    {
     "data": {
      "text/plain": [
       "array([1578, 1288,  592, ...,    1,    1,    1], dtype=int64)"
      ]
     },
     "execution_count": 89,
     "metadata": {},
     "output_type": "execute_result"
    }
   ],
   "source": [
    "y"
   ]
  },
  {
   "cell_type": "code",
   "execution_count": 90,
   "metadata": {
    "collapsed": true
   },
   "outputs": [],
   "source": [
    "from sklearn.model_selection import train_test_split\n",
    "X_train, X_test, y_train, y_test = train_test_split(X, y, test_size=0.33, random_state=42)"
   ]
  },
  {
   "cell_type": "code",
   "execution_count": 91,
   "metadata": {
    "collapsed": true
   },
   "outputs": [],
   "source": [
    "from sklearn.ensemble.gradient_boosting import GradientBoostingRegressor\n",
    "from sklearn.ensemble import RandomForestRegressor\n",
    "from sklearn.linear_model import LinearRegression\n",
    "from sklearn.metrics import classification_report\n",
    "from sklearn import neighbors \n",
    "from sklearn.svm import SVR\n",
    "from sklearn import linear_model\n",
    "from xgboost import XGBRegressor"
   ]
  },
  {
   "cell_type": "code",
   "execution_count": 92,
   "metadata": {},
   "outputs": [
    {
     "data": {
      "text/plain": [
       "GradientBoostingRegressor(alpha=0.9, criterion='friedman_mse', init=None,\n",
       "             learning_rate=1.0, loss='ls', max_depth=2, max_features=None,\n",
       "             max_leaf_nodes=None, min_impurity_decrease=0.0,\n",
       "             min_impurity_split=None, min_samples_leaf=1,\n",
       "             min_samples_split=2, min_weight_fraction_leaf=0.0,\n",
       "             n_estimators=100, presort='auto', random_state=None,\n",
       "             subsample=1.0, verbose=0, warm_start=False)"
      ]
     },
     "execution_count": 92,
     "metadata": {},
     "output_type": "execute_result"
    }
   ],
   "source": [
    "regr = LinearRegression(normalize=True) # cria o modelo\n",
    "regr.fit(X_train, y_train) # treina o modelo\n",
    "\n",
    "n_neighbors = 5\n",
    "knn = neighbors.KNeighborsRegressor(n_neighbors, weights='uniform')\n",
    "knn.fit(X_train, y_train)\n",
    "\n",
    "rf = RandomForestRegressor(n_jobs = -1, n_estimators = 15)\n",
    "rf.fit(X_train, y_train)\n",
    "\n",
    "from sklearn.tree import DecisionTreeRegressor\n",
    "dtr = DecisionTreeRegressor(max_depth=21)\n",
    "dtr.fit(X_train, y_train)\n",
    "\n",
    "gb = GradientBoostingRegressor(n_estimators=100, learning_rate = 1.0, max_depth = 2)\n",
    "gb.fit(X_train, y_train)"
   ]
  },
  {
   "cell_type": "code",
   "execution_count": 102,
   "metadata": {
    "collapsed": true
   },
   "outputs": [],
   "source": [
    "from sklearn.metrics import mean_squared_log_error\n",
    "from sklearn.metrics import mean_squared_error\n",
    "def rmsle(ytrue, ypred):\n",
    "    return np.sqrt(mean_squared_error(ytrue, ypred))\n",
    "    #return np.sqrt(mean_squared_log_error(ytrue, ypred))"
   ]
  },
  {
   "cell_type": "code",
   "execution_count": 103,
   "metadata": {},
   "outputs": [
    {
     "data": {
      "text/plain": [
       "array([646,   3,  26, ...,  11,   8, 173], dtype=int64)"
      ]
     },
     "execution_count": 103,
     "metadata": {},
     "output_type": "execute_result"
    }
   ],
   "source": [
    "y_test"
   ]
  },
  {
   "cell_type": "code",
   "execution_count": 107,
   "metadata": {},
   "outputs": [
    {
     "name": "stdout",
     "output_type": "stream",
     "text": [
      "Erro 151.12998\n"
     ]
    }
   ],
   "source": [
    "pRegr = regr.predict(X_test)\n",
    "\n",
    "error = rmsle(y_test, pRegr)\n",
    "print('Erro %.5f' % (error))"
   ]
  },
  {
   "cell_type": "code",
   "execution_count": 108,
   "metadata": {},
   "outputs": [
    {
     "name": "stdout",
     "output_type": "stream",
     "text": [
      "Erro 109.94943\n"
     ]
    }
   ],
   "source": [
    "pKnn = knn.predict(X_test)\n",
    "\n",
    "error = rmsle(y_test, pKnn)\n",
    "print('Erro %.5f' % (error))"
   ]
  },
  {
   "cell_type": "code",
   "execution_count": 109,
   "metadata": {},
   "outputs": [
    {
     "name": "stdout",
     "output_type": "stream",
     "text": [
      "Erro 101.52207\n"
     ]
    }
   ],
   "source": [
    "pRf = rf.predict(X_test)\n",
    "\n",
    "error = rmsle(y_test, pRf)\n",
    "print('Erro %.5f' % (error))"
   ]
  },
  {
   "cell_type": "code",
   "execution_count": 111,
   "metadata": {},
   "outputs": [
    {
     "name": "stdout",
     "output_type": "stream",
     "text": [
      "Erro 136.48979\n"
     ]
    }
   ],
   "source": [
    "pDtr = dtr.predict(X_test)\n",
    "\n",
    "error = rmsle(y_test, pDtr)\n",
    "print('Erro %.5f' % (error))"
   ]
  },
  {
   "cell_type": "code",
   "execution_count": 112,
   "metadata": {},
   "outputs": [
    {
     "name": "stdout",
     "output_type": "stream",
     "text": [
      "Erro 101.13825\n"
     ]
    }
   ],
   "source": [
    "pGb = gb.predict(X_test)\n",
    "\n",
    "error = rmsle(y_test, pGb)\n",
    "print('Erro %.5f' % (error))"
   ]
  },
  {
   "cell_type": "code",
   "execution_count": 113,
   "metadata": {},
   "outputs": [
    {
     "data": {
      "image/png": "[encoded data removed]",
      "text/plain": [
       "<matplotlib.figure.Figure at 0x1feb72a30f0>"
      ]
     },
     "metadata": {},
     "output_type": "display_data"
    }
   ],
   "source": [
    "plt.clf() \n",
    "plt.scatter(y_test, pGb) # benchmark\n",
    "plt.plot(y_test, y_test, color='green')\n",
    "plt.grid(True)\n",
    "plt.show()"
   ]
  },
  {
   "cell_type": "code",
   "execution_count": 116,
   "metadata": {
    "collapsed": true
   },
   "outputs": [],
   "source": [
    "val = pd.DataFrame()"
   ]
  },
  {
   "cell_type": "code",
   "execution_count": 124,
   "metadata": {
    "collapsed": true
   },
   "outputs": [],
   "source": [
    "val = pd.DataFrame(y_test)"
   ]
  },
  {
   "cell_type": "code",
   "execution_count": 128,
   "metadata": {},
   "outputs": [
    {
     "data": {
      "text/html": [
       "<div>\n",
       "<style>\n",
       "    .dataframe thead tr:only-child th {\n",
       "        text-align: right;\n",
       "    }\n",
       "\n",
       "    .dataframe thead th {\n",
       "        text-align: left;\n",
       "    }\n",
       "\n",
       "    .dataframe tbody tr th {\n",
       "        vertical-align: top;\n",
       "    }\n",
       "</style>\n",
       "<table border=\"1\" class=\"dataframe\">\n",
       "  <thead>\n",
       "    <tr style=\"text-align: right;\">\n",
       "      <th></th>\n",
       "      <th>QUANT_VENDIDA</th>\n",
       "    </tr>\n",
       "  </thead>\n",
       "  <tbody>\n",
       "    <tr>\n",
       "      <th>0</th>\n",
       "      <td>646</td>\n",
       "    </tr>\n",
       "    <tr>\n",
       "      <th>1</th>\n",
       "      <td>3</td>\n",
       "    </tr>\n",
       "    <tr>\n",
       "      <th>2</th>\n",
       "      <td>26</td>\n",
       "    </tr>\n",
       "    <tr>\n",
       "      <th>3</th>\n",
       "      <td>50</td>\n",
       "    </tr>\n",
       "    <tr>\n",
       "      <th>4</th>\n",
       "      <td>23</td>\n",
       "    </tr>\n",
       "  </tbody>\n",
       "</table>\n",
       "</div>"
      ],
      "text/plain": [
       "   QUANT_VENDIDA\n",
       "0            646\n",
       "1              3\n",
       "2             26\n",
       "3             50\n",
       "4             23"
      ]
     },
     "execution_count": 128,
     "metadata": {},
     "output_type": "execute_result"
    }
   ],
   "source": [
    "val.head()"
   ]
  },
  {
   "cell_type": "code",
   "execution_count": 127,
   "metadata": {
    "collapsed": true
   },
   "outputs": [],
   "source": [
    "val.columns = ['QUANT_VENDIDA']"
   ]
  },
  {
   "cell_type": "code",
   "execution_count": 133,
   "metadata": {},
   "outputs": [
    {
     "data": {
      "text/plain": [
       "<matplotlib.axes._subplots.AxesSubplot at 0x1feb9ace940>"
      ]
     },
     "execution_count": 133,
     "metadata": {},
     "output_type": "execute_result"
    },
    {
     "data": {
      "image/png": "[encoded data removed]",
      "text/plain": [
       "<matplotlib.figure.Figure at 0x1feba2b5ba8>"
      ]
     },
     "metadata": {},
     "output_type": "display_data"
    }
   ],
   "source": [
    "val.loc[:, 'Predicao'] = np.round(pGb)\n",
    "val.plot.scatter(x='Predicao', y='QUANT_VENDIDA', figsize=(15,10), title='Previsão x Quant Vendida', \n",
    "                 ylim=(2), xlim=(3))"
   ]
  },
  {
   "cell_type": "code",
   "execution_count": null,
   "metadata": {
    "collapsed": true
   },
   "outputs": [],
   "source": []
  }
 ],
 "metadata": {
  "kernelspec": {
   "display_name": "Python 3",
   "language": "python",
   "name": "python3"
  },
  "language_info": {
   "codemirror_mode": {
    "name": "ipython",
    "version": 3
   },
   "file_extension": ".py",
   "mimetype": "text/x-python",
   "name": "python",
   "nbconvert_exporter": "python",
   "pygments_lexer": "ipython3",
   "version": "3.6.3"
  }
 },
 "nbformat": 4,
 "nbformat_minor": 2
}
