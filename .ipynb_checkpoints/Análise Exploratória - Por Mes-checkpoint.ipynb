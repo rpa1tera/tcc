{
 "cells": [
  {
   "cell_type": "code",
   "execution_count": 1,
   "metadata": {
    "collapsed": true
   },
   "outputs": [],
   "source": [
    "import numpy as np\n",
    "import pandas as pd\n",
    "import matplotlib.pyplot as plt\n",
    "import seaborn as sns \n",
    "%matplotlib inline\n",
    "import warnings\n",
    "warnings.filterwarnings(\"ignore\")"
   ]
  },
  {
   "cell_type": "code",
   "execution_count": 2,
   "metadata": {
    "collapsed": true
   },
   "outputs": [],
   "source": [
    "df = pd.read_csv(\"bmes.csv\", encoding = \"ISO-8859-1\", index_col=0)"
   ]
  },
  {
   "cell_type": "code",
   "execution_count": 3,
   "metadata": {},
   "outputs": [
    {
     "data": {
      "text/html": [
       "<div>\n",
       "<style>\n",
       "    .dataframe thead tr:only-child th {\n",
       "        text-align: right;\n",
       "    }\n",
       "\n",
       "    .dataframe thead th {\n",
       "        text-align: left;\n",
       "    }\n",
       "\n",
       "    .dataframe tbody tr th {\n",
       "        vertical-align: top;\n",
       "    }\n",
       "</style>\n",
       "<table border=\"1\" class=\"dataframe\">\n",
       "  <thead>\n",
       "    <tr style=\"text-align: right;\">\n",
       "      <th></th>\n",
       "      <th>PRODUTO</th>\n",
       "      <th>QUANT_VENDIDA</th>\n",
       "      <th>DIASEMANA</th>\n",
       "      <th>FERIADO_PROXIMO</th>\n",
       "    </tr>\n",
       "    <tr>\n",
       "      <th>DATA_VENDA</th>\n",
       "      <th></th>\n",
       "      <th></th>\n",
       "      <th></th>\n",
       "      <th></th>\n",
       "    </tr>\n",
       "  </thead>\n",
       "  <tbody>\n",
       "    <tr>\n",
       "      <th>05/01/15</th>\n",
       "      <td>627</td>\n",
       "      <td>824</td>\n",
       "      <td>SEGUNDA-FEIRA</td>\n",
       "      <td>NaN</td>\n",
       "    </tr>\n",
       "    <tr>\n",
       "      <th>05/01/15</th>\n",
       "      <td>191</td>\n",
       "      <td>657</td>\n",
       "      <td>SEGUNDA-FEIRA</td>\n",
       "      <td>NaN</td>\n",
       "    </tr>\n",
       "    <tr>\n",
       "      <th>05/01/15</th>\n",
       "      <td>399</td>\n",
       "      <td>414</td>\n",
       "      <td>SEGUNDA-FEIRA</td>\n",
       "      <td>NaN</td>\n",
       "    </tr>\n",
       "    <tr>\n",
       "      <th>05/01/15</th>\n",
       "      <td>1419</td>\n",
       "      <td>274</td>\n",
       "      <td>SEGUNDA-FEIRA</td>\n",
       "      <td>NaN</td>\n",
       "    </tr>\n",
       "    <tr>\n",
       "      <th>05/01/15</th>\n",
       "      <td>801</td>\n",
       "      <td>262</td>\n",
       "      <td>SEGUNDA-FEIRA</td>\n",
       "      <td>NaN</td>\n",
       "    </tr>\n",
       "  </tbody>\n",
       "</table>\n",
       "</div>"
      ],
      "text/plain": [
       "            PRODUTO  QUANT_VENDIDA      DIASEMANA  FERIADO_PROXIMO\n",
       "DATA_VENDA                                                        \n",
       "05/01/15        627            824  SEGUNDA-FEIRA              NaN\n",
       "05/01/15        191            657  SEGUNDA-FEIRA              NaN\n",
       "05/01/15        399            414  SEGUNDA-FEIRA              NaN\n",
       "05/01/15       1419            274  SEGUNDA-FEIRA              NaN\n",
       "05/01/15        801            262  SEGUNDA-FEIRA              NaN"
      ]
     },
     "execution_count": 3,
     "metadata": {},
     "output_type": "execute_result"
    }
   ],
   "source": [
    "df.head()"
   ]
  },
  {
   "cell_type": "code",
   "execution_count": 4,
   "metadata": {},
   "outputs": [
    {
     "data": {
      "text/plain": [
       "(57670, 4)"
      ]
     },
     "execution_count": 4,
     "metadata": {},
     "output_type": "execute_result"
    }
   ],
   "source": [
    "df.shape"
   ]
  },
  {
   "cell_type": "markdown",
   "metadata": {
    "collapsed": true
   },
   "source": [
    "### Informações Sobre as Features\n",
    "\n",
    "* DATA_VENDA = data de emissão da nota fiscal\n",
    "* PRODUTO = Código do Produto\n",
    "* QUANT_VENDIDA = Quantidade de produto em caixas que foram vendidas por dia.\n",
    "* DIASEMANA = Dia da semana\n",
    "* FERIADO_PROXIMO = Se existe feriado próximo (2 dias antes, 2 dias depois da data da venda) 1 = há feriado, 0 = não há feriado"
   ]
  },
  {
   "cell_type": "code",
   "execution_count": 5,
   "metadata": {},
   "outputs": [
    {
     "data": {
      "text/plain": [
       "PRODUTO                0\n",
       "QUANT_VENDIDA          0\n",
       "DIASEMANA              0\n",
       "FERIADO_PROXIMO    51487\n",
       "dtype: int64"
      ]
     },
     "execution_count": 5,
     "metadata": {},
     "output_type": "execute_result"
    }
   ],
   "source": [
    "df.isnull().sum() #O quanto temos de dados nulos?"
   ]
  },
  {
   "cell_type": "code",
   "execution_count": 6,
   "metadata": {},
   "outputs": [
    {
     "data": {
      "text/plain": [
       "array([nan,  1.])"
      ]
     },
     "execution_count": 6,
     "metadata": {},
     "output_type": "execute_result"
    }
   ],
   "source": [
    "df.FERIADO_PROXIMO.unique() "
   ]
  },
  {
   "cell_type": "code",
   "execution_count": 7,
   "metadata": {
    "collapsed": true
   },
   "outputs": [],
   "source": [
    "#Onde FERIADO_PROXIMO for nan, será substituído por 0\n",
    "df.fillna(0, inplace = True)"
   ]
  },
  {
   "cell_type": "code",
   "execution_count": 8,
   "metadata": {},
   "outputs": [
    {
     "data": {
      "text/html": [
       "<div>\n",
       "<style>\n",
       "    .dataframe thead tr:only-child th {\n",
       "        text-align: right;\n",
       "    }\n",
       "\n",
       "    .dataframe thead th {\n",
       "        text-align: left;\n",
       "    }\n",
       "\n",
       "    .dataframe tbody tr th {\n",
       "        vertical-align: top;\n",
       "    }\n",
       "</style>\n",
       "<table border=\"1\" class=\"dataframe\">\n",
       "  <thead>\n",
       "    <tr style=\"text-align: right;\">\n",
       "      <th></th>\n",
       "      <th>PRODUTO</th>\n",
       "      <th>QUANT_VENDIDA</th>\n",
       "      <th>DIASEMANA</th>\n",
       "      <th>FERIADO_PROXIMO</th>\n",
       "    </tr>\n",
       "    <tr>\n",
       "      <th>DATA_VENDA</th>\n",
       "      <th></th>\n",
       "      <th></th>\n",
       "      <th></th>\n",
       "      <th></th>\n",
       "    </tr>\n",
       "  </thead>\n",
       "  <tbody>\n",
       "    <tr>\n",
       "      <th>13/06/16</th>\n",
       "      <td>801</td>\n",
       "      <td>6564</td>\n",
       "      <td>SEGUNDA-FEIRA</td>\n",
       "      <td>0.0</td>\n",
       "    </tr>\n",
       "    <tr>\n",
       "      <th>13/02/15</th>\n",
       "      <td>627</td>\n",
       "      <td>4729</td>\n",
       "      <td>SEXTA-FEIRA</td>\n",
       "      <td>0.0</td>\n",
       "    </tr>\n",
       "    <tr>\n",
       "      <th>24/11/17</th>\n",
       "      <td>399</td>\n",
       "      <td>4640</td>\n",
       "      <td>SEXTA-FEIRA</td>\n",
       "      <td>0.0</td>\n",
       "    </tr>\n",
       "    <tr>\n",
       "      <th>02/10/17</th>\n",
       "      <td>238</td>\n",
       "      <td>3905</td>\n",
       "      <td>SEGUNDA-FEIRA</td>\n",
       "      <td>0.0</td>\n",
       "    </tr>\n",
       "    <tr>\n",
       "      <th>06/04/18</th>\n",
       "      <td>191</td>\n",
       "      <td>3671</td>\n",
       "      <td>SEXTA-FEIRA</td>\n",
       "      <td>0.0</td>\n",
       "    </tr>\n",
       "    <tr>\n",
       "      <th>02/03/18</th>\n",
       "      <td>627</td>\n",
       "      <td>3613</td>\n",
       "      <td>SEXTA-FEIRA</td>\n",
       "      <td>0.0</td>\n",
       "    </tr>\n",
       "    <tr>\n",
       "      <th>23/02/18</th>\n",
       "      <td>627</td>\n",
       "      <td>3522</td>\n",
       "      <td>SEXTA-FEIRA</td>\n",
       "      <td>0.0</td>\n",
       "    </tr>\n",
       "    <tr>\n",
       "      <th>29/08/17</th>\n",
       "      <td>627</td>\n",
       "      <td>3507</td>\n",
       "      <td>TERÇA-FEIRA</td>\n",
       "      <td>0.0</td>\n",
       "    </tr>\n",
       "    <tr>\n",
       "      <th>10/04/18</th>\n",
       "      <td>627</td>\n",
       "      <td>3461</td>\n",
       "      <td>TERÇA-FEIRA</td>\n",
       "      <td>0.0</td>\n",
       "    </tr>\n",
       "    <tr>\n",
       "      <th>06/11/17</th>\n",
       "      <td>627</td>\n",
       "      <td>3460</td>\n",
       "      <td>SEGUNDA-FEIRA</td>\n",
       "      <td>0.0</td>\n",
       "    </tr>\n",
       "    <tr>\n",
       "      <th>09/03/18</th>\n",
       "      <td>627</td>\n",
       "      <td>3454</td>\n",
       "      <td>SEXTA-FEIRA</td>\n",
       "      <td>0.0</td>\n",
       "    </tr>\n",
       "    <tr>\n",
       "      <th>05/06/17</th>\n",
       "      <td>627</td>\n",
       "      <td>3450</td>\n",
       "      <td>SEGUNDA-FEIRA</td>\n",
       "      <td>0.0</td>\n",
       "    </tr>\n",
       "    <tr>\n",
       "      <th>30/03/16</th>\n",
       "      <td>627</td>\n",
       "      <td>3357</td>\n",
       "      <td>QUARTA-FEIRA</td>\n",
       "      <td>0.0</td>\n",
       "    </tr>\n",
       "    <tr>\n",
       "      <th>17/11/17</th>\n",
       "      <td>627</td>\n",
       "      <td>3310</td>\n",
       "      <td>SEXTA-FEIRA</td>\n",
       "      <td>1.0</td>\n",
       "    </tr>\n",
       "    <tr>\n",
       "      <th>16/06/17</th>\n",
       "      <td>191</td>\n",
       "      <td>3225</td>\n",
       "      <td>SEXTA-FEIRA</td>\n",
       "      <td>1.0</td>\n",
       "    </tr>\n",
       "    <tr>\n",
       "      <th>16/02/18</th>\n",
       "      <td>627</td>\n",
       "      <td>3215</td>\n",
       "      <td>SEXTA-FEIRA</td>\n",
       "      <td>0.0</td>\n",
       "    </tr>\n",
       "    <tr>\n",
       "      <th>18/03/16</th>\n",
       "      <td>627</td>\n",
       "      <td>3210</td>\n",
       "      <td>SEXTA-FEIRA</td>\n",
       "      <td>0.0</td>\n",
       "    </tr>\n",
       "    <tr>\n",
       "      <th>20/02/15</th>\n",
       "      <td>191</td>\n",
       "      <td>3197</td>\n",
       "      <td>SEXTA-FEIRA</td>\n",
       "      <td>0.0</td>\n",
       "    </tr>\n",
       "    <tr>\n",
       "      <th>07/04/17</th>\n",
       "      <td>986</td>\n",
       "      <td>3164</td>\n",
       "      <td>SEXTA-FEIRA</td>\n",
       "      <td>0.0</td>\n",
       "    </tr>\n",
       "    <tr>\n",
       "      <th>29/09/15</th>\n",
       "      <td>238</td>\n",
       "      <td>3132</td>\n",
       "      <td>TERÇA-FEIRA</td>\n",
       "      <td>0.0</td>\n",
       "    </tr>\n",
       "    <tr>\n",
       "      <th>20/06/16</th>\n",
       "      <td>627</td>\n",
       "      <td>3121</td>\n",
       "      <td>SEGUNDA-FEIRA</td>\n",
       "      <td>0.0</td>\n",
       "    </tr>\n",
       "    <tr>\n",
       "      <th>15/09/17</th>\n",
       "      <td>627</td>\n",
       "      <td>3118</td>\n",
       "      <td>SEXTA-FEIRA</td>\n",
       "      <td>0.0</td>\n",
       "    </tr>\n",
       "    <tr>\n",
       "      <th>07/04/17</th>\n",
       "      <td>627</td>\n",
       "      <td>3117</td>\n",
       "      <td>SEXTA-FEIRA</td>\n",
       "      <td>0.0</td>\n",
       "    </tr>\n",
       "    <tr>\n",
       "      <th>28/03/18</th>\n",
       "      <td>627</td>\n",
       "      <td>3085</td>\n",
       "      <td>QUARTA-FEIRA</td>\n",
       "      <td>1.0</td>\n",
       "    </tr>\n",
       "    <tr>\n",
       "      <th>25/04/18</th>\n",
       "      <td>627</td>\n",
       "      <td>3075</td>\n",
       "      <td>QUARTA-FEIRA</td>\n",
       "      <td>0.0</td>\n",
       "    </tr>\n",
       "    <tr>\n",
       "      <th>27/02/15</th>\n",
       "      <td>627</td>\n",
       "      <td>3066</td>\n",
       "      <td>SEXTA-FEIRA</td>\n",
       "      <td>0.0</td>\n",
       "    </tr>\n",
       "    <tr>\n",
       "      <th>05/01/18</th>\n",
       "      <td>627</td>\n",
       "      <td>3015</td>\n",
       "      <td>SEXTA-FEIRA</td>\n",
       "      <td>0.0</td>\n",
       "    </tr>\n",
       "    <tr>\n",
       "      <th>12/05/17</th>\n",
       "      <td>627</td>\n",
       "      <td>3007</td>\n",
       "      <td>SEXTA-FEIRA</td>\n",
       "      <td>0.0</td>\n",
       "    </tr>\n",
       "    <tr>\n",
       "      <th>23/06/17</th>\n",
       "      <td>627</td>\n",
       "      <td>2989</td>\n",
       "      <td>SEXTA-FEIRA</td>\n",
       "      <td>0.0</td>\n",
       "    </tr>\n",
       "    <tr>\n",
       "      <th>12/02/16</th>\n",
       "      <td>627</td>\n",
       "      <td>2934</td>\n",
       "      <td>SEXTA-FEIRA</td>\n",
       "      <td>0.0</td>\n",
       "    </tr>\n",
       "    <tr>\n",
       "      <th>...</th>\n",
       "      <td>...</td>\n",
       "      <td>...</td>\n",
       "      <td>...</td>\n",
       "      <td>...</td>\n",
       "    </tr>\n",
       "    <tr>\n",
       "      <th>15/07/17</th>\n",
       "      <td>1631</td>\n",
       "      <td>0</td>\n",
       "      <td>SÁBADO</td>\n",
       "      <td>0.0</td>\n",
       "    </tr>\n",
       "    <tr>\n",
       "      <th>09/12/17</th>\n",
       "      <td>382</td>\n",
       "      <td>0</td>\n",
       "      <td>SÁBADO</td>\n",
       "      <td>0.0</td>\n",
       "    </tr>\n",
       "    <tr>\n",
       "      <th>15/07/17</th>\n",
       "      <td>665</td>\n",
       "      <td>0</td>\n",
       "      <td>SÁBADO</td>\n",
       "      <td>0.0</td>\n",
       "    </tr>\n",
       "    <tr>\n",
       "      <th>15/07/17</th>\n",
       "      <td>801</td>\n",
       "      <td>0</td>\n",
       "      <td>SÁBADO</td>\n",
       "      <td>0.0</td>\n",
       "    </tr>\n",
       "    <tr>\n",
       "      <th>15/07/17</th>\n",
       "      <td>1402</td>\n",
       "      <td>0</td>\n",
       "      <td>SÁBADO</td>\n",
       "      <td>0.0</td>\n",
       "    </tr>\n",
       "    <tr>\n",
       "      <th>15/07/17</th>\n",
       "      <td>443</td>\n",
       "      <td>0</td>\n",
       "      <td>SÁBADO</td>\n",
       "      <td>0.0</td>\n",
       "    </tr>\n",
       "    <tr>\n",
       "      <th>15/07/17</th>\n",
       "      <td>139</td>\n",
       "      <td>0</td>\n",
       "      <td>SÁBADO</td>\n",
       "      <td>0.0</td>\n",
       "    </tr>\n",
       "    <tr>\n",
       "      <th>15/07/17</th>\n",
       "      <td>7305</td>\n",
       "      <td>0</td>\n",
       "      <td>SÁBADO</td>\n",
       "      <td>0.0</td>\n",
       "    </tr>\n",
       "    <tr>\n",
       "      <th>15/07/17</th>\n",
       "      <td>689</td>\n",
       "      <td>0</td>\n",
       "      <td>SÁBADO</td>\n",
       "      <td>0.0</td>\n",
       "    </tr>\n",
       "    <tr>\n",
       "      <th>15/07/17</th>\n",
       "      <td>7404</td>\n",
       "      <td>0</td>\n",
       "      <td>SÁBADO</td>\n",
       "      <td>0.0</td>\n",
       "    </tr>\n",
       "    <tr>\n",
       "      <th>15/07/17</th>\n",
       "      <td>832</td>\n",
       "      <td>0</td>\n",
       "      <td>SÁBADO</td>\n",
       "      <td>0.0</td>\n",
       "    </tr>\n",
       "    <tr>\n",
       "      <th>15/07/17</th>\n",
       "      <td>214</td>\n",
       "      <td>0</td>\n",
       "      <td>SÁBADO</td>\n",
       "      <td>0.0</td>\n",
       "    </tr>\n",
       "    <tr>\n",
       "      <th>15/07/17</th>\n",
       "      <td>399</td>\n",
       "      <td>0</td>\n",
       "      <td>SÁBADO</td>\n",
       "      <td>0.0</td>\n",
       "    </tr>\n",
       "    <tr>\n",
       "      <th>15/07/17</th>\n",
       "      <td>252</td>\n",
       "      <td>0</td>\n",
       "      <td>SÁBADO</td>\n",
       "      <td>0.0</td>\n",
       "    </tr>\n",
       "    <tr>\n",
       "      <th>15/07/17</th>\n",
       "      <td>597</td>\n",
       "      <td>0</td>\n",
       "      <td>SÁBADO</td>\n",
       "      <td>0.0</td>\n",
       "    </tr>\n",
       "    <tr>\n",
       "      <th>15/07/17</th>\n",
       "      <td>825</td>\n",
       "      <td>0</td>\n",
       "      <td>SÁBADO</td>\n",
       "      <td>0.0</td>\n",
       "    </tr>\n",
       "    <tr>\n",
       "      <th>09/12/17</th>\n",
       "      <td>1419</td>\n",
       "      <td>0</td>\n",
       "      <td>SÁBADO</td>\n",
       "      <td>0.0</td>\n",
       "    </tr>\n",
       "    <tr>\n",
       "      <th>15/07/17</th>\n",
       "      <td>1419</td>\n",
       "      <td>0</td>\n",
       "      <td>SÁBADO</td>\n",
       "      <td>0.0</td>\n",
       "    </tr>\n",
       "    <tr>\n",
       "      <th>09/12/17</th>\n",
       "      <td>368</td>\n",
       "      <td>0</td>\n",
       "      <td>SÁBADO</td>\n",
       "      <td>0.0</td>\n",
       "    </tr>\n",
       "    <tr>\n",
       "      <th>15/07/17</th>\n",
       "      <td>7107</td>\n",
       "      <td>0</td>\n",
       "      <td>SÁBADO</td>\n",
       "      <td>0.0</td>\n",
       "    </tr>\n",
       "    <tr>\n",
       "      <th>09/12/17</th>\n",
       "      <td>665</td>\n",
       "      <td>0</td>\n",
       "      <td>SÁBADO</td>\n",
       "      <td>0.0</td>\n",
       "    </tr>\n",
       "    <tr>\n",
       "      <th>09/12/17</th>\n",
       "      <td>207</td>\n",
       "      <td>0</td>\n",
       "      <td>SÁBADO</td>\n",
       "      <td>0.0</td>\n",
       "    </tr>\n",
       "    <tr>\n",
       "      <th>09/12/17</th>\n",
       "      <td>7305</td>\n",
       "      <td>0</td>\n",
       "      <td>SÁBADO</td>\n",
       "      <td>0.0</td>\n",
       "    </tr>\n",
       "    <tr>\n",
       "      <th>09/12/17</th>\n",
       "      <td>474</td>\n",
       "      <td>0</td>\n",
       "      <td>SÁBADO</td>\n",
       "      <td>0.0</td>\n",
       "    </tr>\n",
       "    <tr>\n",
       "      <th>09/12/17</th>\n",
       "      <td>900</td>\n",
       "      <td>0</td>\n",
       "      <td>SÁBADO</td>\n",
       "      <td>0.0</td>\n",
       "    </tr>\n",
       "    <tr>\n",
       "      <th>09/12/17</th>\n",
       "      <td>5677</td>\n",
       "      <td>0</td>\n",
       "      <td>SÁBADO</td>\n",
       "      <td>0.0</td>\n",
       "    </tr>\n",
       "    <tr>\n",
       "      <th>15/07/17</th>\n",
       "      <td>900</td>\n",
       "      <td>0</td>\n",
       "      <td>SÁBADO</td>\n",
       "      <td>0.0</td>\n",
       "    </tr>\n",
       "    <tr>\n",
       "      <th>12/03/18</th>\n",
       "      <td>34</td>\n",
       "      <td>0</td>\n",
       "      <td>SEGUNDA-FEIRA</td>\n",
       "      <td>0.0</td>\n",
       "    </tr>\n",
       "    <tr>\n",
       "      <th>09/12/17</th>\n",
       "      <td>1235</td>\n",
       "      <td>0</td>\n",
       "      <td>SÁBADO</td>\n",
       "      <td>0.0</td>\n",
       "    </tr>\n",
       "    <tr>\n",
       "      <th>12/03/18</th>\n",
       "      <td>2928</td>\n",
       "      <td>0</td>\n",
       "      <td>SEGUNDA-FEIRA</td>\n",
       "      <td>0.0</td>\n",
       "    </tr>\n",
       "  </tbody>\n",
       "</table>\n",
       "<p>57670 rows × 4 columns</p>\n",
       "</div>"
      ],
      "text/plain": [
       "            PRODUTO  QUANT_VENDIDA      DIASEMANA  FERIADO_PROXIMO\n",
       "DATA_VENDA                                                        \n",
       "13/06/16        801           6564  SEGUNDA-FEIRA              0.0\n",
       "13/02/15        627           4729  SEXTA-FEIRA                0.0\n",
       "24/11/17        399           4640  SEXTA-FEIRA                0.0\n",
       "02/10/17        238           3905  SEGUNDA-FEIRA              0.0\n",
       "06/04/18        191           3671  SEXTA-FEIRA                0.0\n",
       "02/03/18        627           3613  SEXTA-FEIRA                0.0\n",
       "23/02/18        627           3522  SEXTA-FEIRA                0.0\n",
       "29/08/17        627           3507  TERÇA-FEIRA                0.0\n",
       "10/04/18        627           3461  TERÇA-FEIRA                0.0\n",
       "06/11/17        627           3460  SEGUNDA-FEIRA              0.0\n",
       "09/03/18        627           3454  SEXTA-FEIRA                0.0\n",
       "05/06/17        627           3450  SEGUNDA-FEIRA              0.0\n",
       "30/03/16        627           3357  QUARTA-FEIRA               0.0\n",
       "17/11/17        627           3310  SEXTA-FEIRA                1.0\n",
       "16/06/17        191           3225  SEXTA-FEIRA                1.0\n",
       "16/02/18        627           3215  SEXTA-FEIRA                0.0\n",
       "18/03/16        627           3210  SEXTA-FEIRA                0.0\n",
       "20/02/15        191           3197  SEXTA-FEIRA                0.0\n",
       "07/04/17        986           3164  SEXTA-FEIRA                0.0\n",
       "29/09/15        238           3132  TERÇA-FEIRA                0.0\n",
       "20/06/16        627           3121  SEGUNDA-FEIRA              0.0\n",
       "15/09/17        627           3118  SEXTA-FEIRA                0.0\n",
       "07/04/17        627           3117  SEXTA-FEIRA                0.0\n",
       "28/03/18        627           3085  QUARTA-FEIRA               1.0\n",
       "25/04/18        627           3075  QUARTA-FEIRA               0.0\n",
       "27/02/15        627           3066  SEXTA-FEIRA                0.0\n",
       "05/01/18        627           3015  SEXTA-FEIRA                0.0\n",
       "12/05/17        627           3007  SEXTA-FEIRA                0.0\n",
       "23/06/17        627           2989  SEXTA-FEIRA                0.0\n",
       "12/02/16        627           2934  SEXTA-FEIRA                0.0\n",
       "...             ...            ...            ...              ...\n",
       "15/07/17       1631              0  SÁBADO                     0.0\n",
       "09/12/17        382              0  SÁBADO                     0.0\n",
       "15/07/17        665              0  SÁBADO                     0.0\n",
       "15/07/17        801              0  SÁBADO                     0.0\n",
       "15/07/17       1402              0  SÁBADO                     0.0\n",
       "15/07/17        443              0  SÁBADO                     0.0\n",
       "15/07/17        139              0  SÁBADO                     0.0\n",
       "15/07/17       7305              0  SÁBADO                     0.0\n",
       "15/07/17        689              0  SÁBADO                     0.0\n",
       "15/07/17       7404              0  SÁBADO                     0.0\n",
       "15/07/17        832              0  SÁBADO                     0.0\n",
       "15/07/17        214              0  SÁBADO                     0.0\n",
       "15/07/17        399              0  SÁBADO                     0.0\n",
       "15/07/17        252              0  SÁBADO                     0.0\n",
       "15/07/17        597              0  SÁBADO                     0.0\n",
       "15/07/17        825              0  SÁBADO                     0.0\n",
       "09/12/17       1419              0  SÁBADO                     0.0\n",
       "15/07/17       1419              0  SÁBADO                     0.0\n",
       "09/12/17        368              0  SÁBADO                     0.0\n",
       "15/07/17       7107              0  SÁBADO                     0.0\n",
       "09/12/17        665              0  SÁBADO                     0.0\n",
       "09/12/17        207              0  SÁBADO                     0.0\n",
       "09/12/17       7305              0  SÁBADO                     0.0\n",
       "09/12/17        474              0  SÁBADO                     0.0\n",
       "09/12/17        900              0  SÁBADO                     0.0\n",
       "09/12/17       5677              0  SÁBADO                     0.0\n",
       "15/07/17        900              0  SÁBADO                     0.0\n",
       "12/03/18         34              0  SEGUNDA-FEIRA              0.0\n",
       "09/12/17       1235              0  SÁBADO                     0.0\n",
       "12/03/18       2928              0  SEGUNDA-FEIRA              0.0\n",
       "\n",
       "[57670 rows x 4 columns]"
      ]
     },
     "execution_count": 8,
     "metadata": {},
     "output_type": "execute_result"
    }
   ],
   "source": [
    "df.sort_values('QUANT_VENDIDA', ascending=False)"
   ]
  },
  {
   "cell_type": "code",
   "execution_count": 9,
   "metadata": {
    "collapsed": true
   },
   "outputs": [],
   "source": [
    "df = df[(df.PRODUTO == 627)]"
   ]
  },
  {
   "cell_type": "code",
   "execution_count": 10,
   "metadata": {
    "collapsed": true
   },
   "outputs": [],
   "source": [
    "df = df.iloc[ : , :2 ]"
   ]
  },
  {
   "cell_type": "code",
   "execution_count": 11,
   "metadata": {},
   "outputs": [
    {
     "data": {
      "text/html": [
       "<div>\n",
       "<style>\n",
       "    .dataframe thead tr:only-child th {\n",
       "        text-align: right;\n",
       "    }\n",
       "\n",
       "    .dataframe thead th {\n",
       "        text-align: left;\n",
       "    }\n",
       "\n",
       "    .dataframe tbody tr th {\n",
       "        vertical-align: top;\n",
       "    }\n",
       "</style>\n",
       "<table border=\"1\" class=\"dataframe\">\n",
       "  <thead>\n",
       "    <tr style=\"text-align: right;\">\n",
       "      <th></th>\n",
       "      <th>PRODUTO</th>\n",
       "      <th>QUANT_VENDIDA</th>\n",
       "    </tr>\n",
       "    <tr>\n",
       "      <th>DATA_VENDA</th>\n",
       "      <th></th>\n",
       "      <th></th>\n",
       "    </tr>\n",
       "  </thead>\n",
       "  <tbody>\n",
       "    <tr>\n",
       "      <th>05/01/15</th>\n",
       "      <td>627</td>\n",
       "      <td>824</td>\n",
       "    </tr>\n",
       "    <tr>\n",
       "      <th>06/01/15</th>\n",
       "      <td>627</td>\n",
       "      <td>1528</td>\n",
       "    </tr>\n",
       "    <tr>\n",
       "      <th>07/01/15</th>\n",
       "      <td>627</td>\n",
       "      <td>966</td>\n",
       "    </tr>\n",
       "    <tr>\n",
       "      <th>08/01/15</th>\n",
       "      <td>627</td>\n",
       "      <td>1425</td>\n",
       "    </tr>\n",
       "    <tr>\n",
       "      <th>09/01/15</th>\n",
       "      <td>627</td>\n",
       "      <td>2394</td>\n",
       "    </tr>\n",
       "  </tbody>\n",
       "</table>\n",
       "</div>"
      ],
      "text/plain": [
       "            PRODUTO  QUANT_VENDIDA\n",
       "DATA_VENDA                        \n",
       "05/01/15        627            824\n",
       "06/01/15        627           1528\n",
       "07/01/15        627            966\n",
       "08/01/15        627           1425\n",
       "09/01/15        627           2394"
      ]
     },
     "execution_count": 11,
     "metadata": {},
     "output_type": "execute_result"
    }
   ],
   "source": [
    "df.head()"
   ]
  },
  {
   "cell_type": "code",
   "execution_count": 12,
   "metadata": {
    "collapsed": true
   },
   "outputs": [],
   "source": [
    "df = df.drop(['PRODUTO'], axis=1)"
   ]
  },
  {
   "cell_type": "code",
   "execution_count": 13,
   "metadata": {
    "collapsed": true
   },
   "outputs": [],
   "source": [
    "df.index = pd.to_datetime(df.index, dayfirst=True)"
   ]
  },
  {
   "cell_type": "code",
   "execution_count": 14,
   "metadata": {},
   "outputs": [
    {
     "data": {
      "text/html": [
       "<div>\n",
       "<style>\n",
       "    .dataframe thead tr:only-child th {\n",
       "        text-align: right;\n",
       "    }\n",
       "\n",
       "    .dataframe thead th {\n",
       "        text-align: left;\n",
       "    }\n",
       "\n",
       "    .dataframe tbody tr th {\n",
       "        vertical-align: top;\n",
       "    }\n",
       "</style>\n",
       "<table border=\"1\" class=\"dataframe\">\n",
       "  <thead>\n",
       "    <tr style=\"text-align: right;\">\n",
       "      <th></th>\n",
       "      <th>QUANT_VENDIDA</th>\n",
       "    </tr>\n",
       "    <tr>\n",
       "      <th>DATA_VENDA</th>\n",
       "      <th></th>\n",
       "    </tr>\n",
       "  </thead>\n",
       "  <tbody>\n",
       "    <tr>\n",
       "      <th>2018-05-14</th>\n",
       "      <td>2358</td>\n",
       "    </tr>\n",
       "    <tr>\n",
       "      <th>2018-05-15</th>\n",
       "      <td>1644</td>\n",
       "    </tr>\n",
       "    <tr>\n",
       "      <th>2018-05-16</th>\n",
       "      <td>1926</td>\n",
       "    </tr>\n",
       "    <tr>\n",
       "      <th>2018-05-17</th>\n",
       "      <td>1855</td>\n",
       "    </tr>\n",
       "    <tr>\n",
       "      <th>2018-05-18</th>\n",
       "      <td>50</td>\n",
       "    </tr>\n",
       "  </tbody>\n",
       "</table>\n",
       "</div>"
      ],
      "text/plain": [
       "            QUANT_VENDIDA\n",
       "DATA_VENDA               \n",
       "2018-05-14           2358\n",
       "2018-05-15           1644\n",
       "2018-05-16           1926\n",
       "2018-05-17           1855\n",
       "2018-05-18             50"
      ]
     },
     "execution_count": 14,
     "metadata": {},
     "output_type": "execute_result"
    }
   ],
   "source": [
    "df.tail()"
   ]
  },
  {
   "cell_type": "code",
   "execution_count": 15,
   "metadata": {},
   "outputs": [
    {
     "data": {
      "text/plain": [
       "(898, 1)"
      ]
     },
     "execution_count": 15,
     "metadata": {},
     "output_type": "execute_result"
    }
   ],
   "source": [
    "df.shape"
   ]
  },
  {
   "cell_type": "code",
   "execution_count": 16,
   "metadata": {},
   "outputs": [
    {
     "data": {
      "text/html": [
       "<div>\n",
       "<style>\n",
       "    .dataframe thead tr:only-child th {\n",
       "        text-align: right;\n",
       "    }\n",
       "\n",
       "    .dataframe thead th {\n",
       "        text-align: left;\n",
       "    }\n",
       "\n",
       "    .dataframe tbody tr th {\n",
       "        vertical-align: top;\n",
       "    }\n",
       "</style>\n",
       "<table border=\"1\" class=\"dataframe\">\n",
       "  <thead>\n",
       "    <tr style=\"text-align: right;\">\n",
       "      <th></th>\n",
       "      <th>QUANT_VENDIDA</th>\n",
       "    </tr>\n",
       "    <tr>\n",
       "      <th>DATA_VENDA</th>\n",
       "      <th></th>\n",
       "    </tr>\n",
       "  </thead>\n",
       "  <tbody>\n",
       "    <tr>\n",
       "      <th>2015-01-05</th>\n",
       "      <td>824</td>\n",
       "    </tr>\n",
       "    <tr>\n",
       "      <th>2015-01-06</th>\n",
       "      <td>1528</td>\n",
       "    </tr>\n",
       "    <tr>\n",
       "      <th>2015-01-07</th>\n",
       "      <td>966</td>\n",
       "    </tr>\n",
       "    <tr>\n",
       "      <th>2015-01-08</th>\n",
       "      <td>1425</td>\n",
       "    </tr>\n",
       "    <tr>\n",
       "      <th>2015-01-09</th>\n",
       "      <td>2394</td>\n",
       "    </tr>\n",
       "  </tbody>\n",
       "</table>\n",
       "</div>"
      ],
      "text/plain": [
       "            QUANT_VENDIDA\n",
       "DATA_VENDA               \n",
       "2015-01-05            824\n",
       "2015-01-06           1528\n",
       "2015-01-07            966\n",
       "2015-01-08           1425\n",
       "2015-01-09           2394"
      ]
     },
     "execution_count": 16,
     "metadata": {},
     "output_type": "execute_result"
    }
   ],
   "source": [
    "df.head()"
   ]
  },
  {
   "cell_type": "code",
   "execution_count": 17,
   "metadata": {
    "collapsed": true
   },
   "outputs": [],
   "source": [
    "df = df.sort_index()"
   ]
  },
  {
   "cell_type": "code",
   "execution_count": 18,
   "metadata": {
    "collapsed": true
   },
   "outputs": [],
   "source": [
    "import plotly as ply\n",
    "import cufflinks as cf\n",
    "#from plotly.offline import download_plotlyjs, init_notebook_mode, plot, iplot\n",
    "#init_notebook_mode(connected=True)\n",
    "ply.tools.set_credentials_file(username='rpa1tera', api_key='f29ZE6Zff9Skz065lHHB')"
   ]
  },
  {
   "cell_type": "code",
   "execution_count": 19,
   "metadata": {},
   "outputs": [
    {
     "name": "stdout",
     "output_type": "stream",
     "text": [
      "High five! You successfully sent some data to your account on plotly. View your plot in your browser at https://plot.ly/~rpa1tera/0 or inside your plot.ly account where it is named 'Vendas Jan 2015--Mai 2018'\n"
     ]
    },
    {
     "data": {
      "text/html": [
       "<iframe id=\"igraph\" scrolling=\"no\" style=\"border:none;\" seamless=\"seamless\" src=\"https://plot.ly/~rpa1tera/0.embed\" height=\"525px\" width=\"100%\"></iframe>"
      ],
      "text/plain": [
       "<plotly.tools.PlotlyDisplay object>"
      ]
     },
     "execution_count": 19,
     "metadata": {},
     "output_type": "execute_result"
    }
   ],
   "source": [
    "df.iplot(title=\"Vendas Jan 2015--Mai 2018\")"
   ]
  },
  {
   "cell_type": "code",
   "execution_count": 20,
   "metadata": {
    "collapsed": true
   },
   "outputs": [],
   "source": [
    "from plotly.plotly import iplot_mpl\n",
    "from statsmodels.tsa.seasonal import seasonal_decompose\n",
    "result = seasonal_decompose(df, freq=30)"
   ]
  },
  {
   "cell_type": "code",
   "execution_count": 21,
   "metadata": {
    "scrolled": false
   },
   "outputs": [
    {
     "data": {
      "text/html": [
       "<iframe id=\"igraph\" scrolling=\"no\" style=\"border:none;\" seamless=\"seamless\" src=\"https://plot.ly/~rpa1tera/22.embed\" height=\"525px\" width=\"100%\"></iframe>"
      ],
      "text/plain": [
       "<plotly.tools.PlotlyDisplay object>"
      ]
     },
     "execution_count": 21,
     "metadata": {},
     "output_type": "execute_result"
    }
   ],
   "source": [
    "fig = result.plot()\n",
    "iplot_mpl(fig)"
   ]
  },
  {
   "cell_type": "code",
   "execution_count": 22,
   "metadata": {
    "collapsed": true
   },
   "outputs": [],
   "source": [
    "from pyramid.arima import auto_arima"
   ]
  },
  {
   "cell_type": "code",
   "execution_count": 23,
   "metadata": {},
   "outputs": [
    {
     "name": "stdout",
     "output_type": "stream",
     "text": [
      "Fit ARIMA: order=(1, 1, 1) seasonal_order=(0, 1, 1, 12); AIC=14167.982, BIC=14191.983, Fit time=5.865 seconds\n",
      "Fit ARIMA: order=(0, 1, 0) seasonal_order=(0, 1, 0, 12); AIC=nan, BIC=nan, Fit time=nan seconds\n",
      "Fit ARIMA: order=(1, 1, 0) seasonal_order=(1, 1, 0, 12); AIC=14857.664, BIC=14876.865, Fit time=2.700 seconds\n",
      "Fit ARIMA: order=(0, 1, 1) seasonal_order=(0, 1, 1, 12); AIC=14184.753, BIC=14203.954, Fit time=3.503 seconds\n",
      "Fit ARIMA: order=(1, 1, 1) seasonal_order=(1, 1, 1, 12); AIC=14171.680, BIC=14200.481, Fit time=6.102 seconds\n",
      "Fit ARIMA: order=(1, 1, 1) seasonal_order=(0, 1, 0, 12); AIC=14683.132, BIC=14702.333, Fit time=1.000 seconds\n",
      "Fit ARIMA: order=(1, 1, 1) seasonal_order=(0, 1, 2, 12); AIC=14173.673, BIC=14202.474, Fit time=14.888 seconds\n",
      "Fit ARIMA: order=(1, 1, 1) seasonal_order=(1, 1, 2, 12); AIC=14173.518, BIC=14207.120, Fit time=17.450 seconds\n",
      "Fit ARIMA: order=(2, 1, 1) seasonal_order=(0, 1, 1, 12); AIC=14165.757, BIC=14194.559, Fit time=5.369 seconds\n",
      "Fit ARIMA: order=(2, 1, 0) seasonal_order=(0, 1, 1, 12); AIC=14392.070, BIC=14416.071, Fit time=4.804 seconds\n",
      "Fit ARIMA: order=(2, 1, 2) seasonal_order=(0, 1, 1, 12); AIC=nan, BIC=nan, Fit time=nan seconds\n",
      "Fit ARIMA: order=(1, 1, 0) seasonal_order=(0, 1, 1, 12); AIC=14500.426, BIC=14519.627, Fit time=1.759 seconds\n",
      "Fit ARIMA: order=(3, 1, 2) seasonal_order=(0, 1, 1, 12); AIC=nan, BIC=nan, Fit time=nan seconds\n",
      "Fit ARIMA: order=(2, 1, 1) seasonal_order=(1, 1, 1, 12); AIC=14191.742, BIC=14225.344, Fit time=7.278 seconds\n",
      "Fit ARIMA: order=(2, 1, 1) seasonal_order=(0, 1, 0, 12); AIC=14683.399, BIC=14707.400, Fit time=1.832 seconds\n",
      "Fit ARIMA: order=(2, 1, 1) seasonal_order=(0, 1, 2, 12); AIC=14205.526, BIC=14239.127, Fit time=17.480 seconds\n",
      "Fit ARIMA: order=(2, 1, 1) seasonal_order=(1, 1, 2, 12); AIC=14392.928, BIC=14431.330, Fit time=18.244 seconds\n",
      "Fit ARIMA: order=(3, 1, 1) seasonal_order=(0, 1, 1, 12); AIC=14252.643, BIC=14286.244, Fit time=6.485 seconds\n",
      "Total fit time: 114.770 seconds\n"
     ]
    }
   ],
   "source": [
    "stepwise_model = auto_arima(df, start_p=1, start_q=1,\n",
    "                           max_p=3, max_q=3, m=12,\n",
    "                           start_P=0, seasonal=True,\n",
    "                           d=1, D=1, trace=True,\n",
    "                           error_action='ignore',  \n",
    "                           suppress_warnings=True, \n",
    "                           stepwise=True)"
   ]
  },
  {
   "cell_type": "code",
   "execution_count": 24,
   "metadata": {},
   "outputs": [
    {
     "name": "stdout",
     "output_type": "stream",
     "text": [
      "14165.757479627868\n"
     ]
    }
   ],
   "source": [
    "print(stepwise_model.aic())"
   ]
  },
  {
   "cell_type": "code",
   "execution_count": 25,
   "metadata": {
    "collapsed": true
   },
   "outputs": [],
   "source": [
    "train = df.loc['2015-01-01':'2016-12-30']\n",
    "test = df.loc['2017-01-01':]"
   ]
  },
  {
   "cell_type": "code",
   "execution_count": 30,
   "metadata": {},
   "outputs": [
    {
     "data": {
      "text/plain": [
       "ARIMA(callback=None, disp=0, maxiter=50, method=None, order=(2, 1, 1),\n",
       "   out_of_sample_size=0, scoring='mse', scoring_args={},\n",
       "   seasonal_order=(0, 1, 1, 12), solver='lbfgs', start_params=None,\n",
       "   suppress_warnings=True, transparams=True, trend='c')"
      ]
     },
     "execution_count": 30,
     "metadata": {},
     "output_type": "execute_result"
    }
   ],
   "source": [
    "stepwise_model.fit(train)"
   ]
  },
  {
   "cell_type": "code",
   "execution_count": 36,
   "metadata": {
    "collapsed": true
   },
   "outputs": [],
   "source": [
    "future_forecast = stepwise_model.predict(n_periods=370)"
   ]
  },
  {
   "cell_type": "code",
   "execution_count": 38,
   "metadata": {},
   "outputs": [
    {
     "name": "stdout",
     "output_type": "stream",
     "text": [
      "[1391.92195645 1480.97454512 1440.55166799 1434.66449884 1518.60326905\n",
      " 1396.44743006 1592.28365805 1409.77573877 1695.40781016 1397.08844378\n",
      " 1542.93321889 1362.24129438 1406.31663047 1518.96842476 1464.54130335\n",
      " 1461.37360096 1544.56939441 1422.69249994 1618.55634701 1436.14367164\n",
      " 1721.85359796 1423.61666025 1569.54267462 1388.93230045 1433.08910574\n",
      " 1545.82239042 1491.47675387 1488.39053778 1571.66781717 1449.87240872\n",
      " 1645.8177418  1463.48655243 1749.27796476 1451.12251306 1597.13001344\n",
      " 1416.60112526 1460.83941656 1573.65418725 1519.39003671 1516.38530663\n",
      " 1599.74407202 1478.03014958 1674.05696867 1491.8072653  1777.68016364\n",
      " 1479.60619795 1625.69518433 1445.24778217 1489.56755947 1602.46381617\n",
      " 1548.28115164 1545.35790756 1628.79815896 1507.16572252 1703.27402762\n",
      " 1521.10581026 1807.06019461 1509.06771492 1655.23818731 1474.87227115\n",
      " 1519.27353446 1632.25127716 1578.15009864 1575.30834057 1658.83007798\n",
      " 1537.27912755 1733.46891865 1551.3821873  1837.41805765 1539.50706397\n",
      " 1685.75902237 1505.47459222 1549.95734154 1663.01657025 1608.99687773\n",
      " 1606.23660567 1689.83982908 1568.37036466 1764.64164177 1582.63639642\n",
      " 1868.75375278 1570.92424511 1717.25768952 1537.05474537 1581.6189807\n",
      " 1694.75969541 1640.8214889  1638.14270284 1721.82741227 1600.43943385\n",
      " 1796.79219696 1614.86843763 1901.06728    1603.31925833 1749.73418874\n",
      " 1569.6127306  1614.25845194 1727.48065266 1673.62393216 1671.02663211\n",
      " 1754.79282753 1633.48633513 1829.92058425 1648.07831092 1934.35863929\n",
      " 1636.69210363 1783.18852005 1603.14854792 1647.87575526 1761.17944199\n",
      " 1707.40420749 1704.88839345 1788.73607488 1667.51106848 1864.02680361\n",
      " 1682.26601629 1968.62783067 1671.04278102 1817.62068344 1637.66219732\n",
      " 1682.47089067 1795.8560634  1742.16231491 1739.72798688 1823.65715432\n",
      " 1702.51363393 1899.11085506 1717.43155374 2003.87485413 1706.37129049\n",
      " 1853.03067892 1673.1536788  1718.04385816 1831.5105169  1777.89825442\n",
      " 1775.54541239 1859.55606584 1738.49403145 1935.17273859 1753.57492328\n",
      " 2040.09970968 1742.67763204 1889.41850648 1709.62299237 1754.59465773\n",
      " 1868.14280248 1814.612026   1812.34066998 1896.43280943 1775.45226105\n",
      " 1972.2124542  1790.6961249  2077.3023973  1779.96180567 1926.78416612\n",
      " 1747.07013801 1792.12328938 1905.75292014 1852.30362967 1850.11375965\n",
      " 1934.28738512 1813.38832274 2010.2300019  1828.7951586  2115.48291701\n",
      " 1818.22381139 1965.12765784 1785.49511574 1830.62975312 1944.34086988\n",
      " 1890.97306542 1888.86468141 1973.11979288 1852.30221652 2049.22538168\n",
      " 1867.87202439 2154.64126881 1857.46364919 2004.44898165 1824.89792556\n",
      " 1870.11404894 1983.90665171 1930.62033326 1928.59343525 2012.93003273\n",
      " 1892.19394237 2089.19859354 1907.92672226 2194.77745268 1897.68131907\n",
      " 2044.74813754 1865.27856745 1910.57617684 2024.45026562 1971.24543317\n",
      " 1969.30002118 2053.71810466 1933.06350031 2130.14963748 1948.95925221\n",
      " 2235.89146864 1938.87682104 2086.02512551 1906.63704143 1952.01613683\n",
      " 2065.97171161 2012.84836517 2010.98443918 2095.48400867 1974.91089033\n",
      " 2172.07851351 1990.96961424 2277.98331668 1981.05015508 2128.27994556\n",
      " 1948.9733475  1994.4339289  2108.47098969 2055.42912926 2053.64668927\n",
      " 2138.22774477 2017.73611243 2214.98522162 2033.95780836 2321.05299681\n",
      " 2024.20132121 2171.5125977  1992.28748564 2037.82955305 2151.94809985\n",
      " 2098.98772542 2097.28677145 2181.94931295 2061.53916662 2258.86976181\n",
      " 2077.92383456 2365.10050901 2068.33031943 2215.72308192 2036.57945587\n",
      " 2082.20300928 2196.40304209 2143.52415367 2141.9046857  2226.64871321\n",
      " 2106.32005289 2303.73213409 2122.86769284 2410.1258533  2113.43714972\n",
      " 2260.91139823 2081.84925818 2127.5542976  2241.83581641 2189.038414\n",
      " 2187.50043204 2272.32594556 2152.07877124 2349.57233845 2168.78938321\n",
      " 2456.12902968 2159.5218121  2307.07754661 2128.09689257 2173.883418\n",
      " 2288.24642282 2235.53050642 2234.07401046 2318.98100999 2198.81532167\n",
      " 2396.39037489 2215.68890566 2503.11003813 2206.58430657 2354.22152708\n",
      " 2175.32235905 2221.19037049 2335.63486131 2283.00043091 2281.62542096\n",
      " 2366.6139065  2246.52970419 2444.18624342 2263.56626019 2551.06887867\n",
      " 2254.62463311 2402.34333963 2223.52565761 2269.47515505 2384.00113188\n",
      " 2331.44818749 2330.15466355 2415.22463509 2295.22191879 2492.95994402\n",
      " 2312.42144681 2600.00555129 2303.64279174 2451.44298427 2272.70678825\n",
      " 2318.7377717  2433.34523454 2380.87377615 2379.66173822 2464.81319577\n",
      " 2344.89196548 2542.71147671 2362.2544655  2649.92005599 2353.63878245\n",
      " 2501.52046099 2322.86575097 2368.97822043 2483.66716928 2431.2771969\n",
      " 2430.14664497 2515.37958853 2395.53984424 2593.44084149 2413.06531628\n",
      " 2700.81239278 2404.61260524 2552.57576979 2374.00254578 2420.19650125\n",
      " 2534.9669361  2482.65844973 2481.60938381 2566.92381337 2447.16555509\n",
      " 2645.14803834 2464.85399914 2752.68256165 2456.56426012 2604.60891067\n",
      " 2426.11717267 2472.39261414 2587.244535   2535.01753464 2534.04995473\n",
      " 2619.44587029 2499.76909802 2697.83306728 2517.62051409 2805.5305626\n",
      " 2509.49374708 2657.61988364 2479.20963164 2525.56655912 2640.49996599\n",
      " 2588.35445163 2587.46835773 2672.9457593  2553.35047304 2751.4959283\n",
      " 2571.36486112 2859.35639564 2563.40106612 2711.60868869 2533.2799227\n",
      " 2579.71833619 2694.73322906 2642.66920071 2641.86459281 2727.42348039\n",
      " 2607.90968014 2806.13662141 2626.08704023 2914.16006076 2618.28621725]\n"
     ]
    }
   ],
   "source": [
    "print(future_forecast)"
   ]
  },
  {
   "cell_type": "code",
   "execution_count": 39,
   "metadata": {
    "collapsed": true
   },
   "outputs": [],
   "source": [
    "future_forecast = pd.DataFrame(future_forecast, index = test.index,columns=['Prediction'])"
   ]
  },
  {
   "cell_type": "code",
   "execution_count": 40,
   "metadata": {},
   "outputs": [
    {
     "data": {
      "text/html": [
       "<iframe id=\"igraph\" scrolling=\"no\" style=\"border:none;\" seamless=\"seamless\" src=\"https://plot.ly/~rpa1tera/24.embed\" height=\"525px\" width=\"100%\"></iframe>"
      ],
      "text/plain": [
       "<plotly.tools.PlotlyDisplay object>"
      ]
     },
     "execution_count": 40,
     "metadata": {},
     "output_type": "execute_result"
    }
   ],
   "source": [
    "pd.concat([test,future_forecast],axis=1).iplot()"
   ]
  },
  {
   "cell_type": "code",
   "execution_count": null,
   "metadata": {
    "collapsed": true
   },
   "outputs": [],
   "source": []
  }
 ],
 "metadata": {
  "kernelspec": {
   "display_name": "Python 3",
   "language": "python",
   "name": "python3"
  },
  "language_info": {
   "codemirror_mode": {
    "name": "ipython",
    "version": 3
   },
   "file_extension": ".py",
   "mimetype": "text/x-python",
   "name": "python",
   "nbconvert_exporter": "python",
   "pygments_lexer": "ipython3",
   "version": "3.6.3"
  }
 },
 "nbformat": 4,
 "nbformat_minor": 2
}
